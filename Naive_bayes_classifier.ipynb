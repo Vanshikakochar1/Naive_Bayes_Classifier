{
  "nbformat": 4,
  "nbformat_minor": 0,
  "metadata": {
    "colab": {
      "provenance": []
    },
    "kernelspec": {
      "name": "python3",
      "display_name": "Python 3"
    },
    "language_info": {
      "name": "python"
    }
  },
  "cells": [
    {
      "cell_type": "code",
      "execution_count": null,
      "metadata": {
        "colab": {
          "base_uri": "https://localhost:8080/"
        },
        "id": "gqgcNS-hgcx4",
        "outputId": "aab1b100-ed74-4b28-f25f-9534ee9dd0bc"
      },
      "outputs": [
        {
          "output_type": "stream",
          "name": "stdout",
          "text": [
            "The dimensions of the dataset (18, 2)\n",
            "0                      I love this sandwich\n",
            "1                  This is an amazing place\n",
            "2        I feel very good about these beers\n",
            "3                      This is my best work\n",
            "4                      What an awesome view\n",
            "5             I do not like this restaurant\n",
            "6                  I am tired of this stuff\n",
            "7                    I can't deal with this\n",
            "8                      He is my sworn enemy\n",
            "9                       My boss is horrible\n",
            "10                 This is an awesome place\n",
            "11    I do not like the taste of this juice\n",
            "12                          I love to dance\n",
            "13        I am sick and tired of this place\n",
            "14                     What a great holiday\n",
            "15           That is a bad locality to stay\n",
            "16           We will have good fun tomorrow\n",
            "17         I went to my enemy's house today\n",
            "Name: message, dtype: object\n",
            "0     1\n",
            "1     1\n",
            "2     1\n",
            "3     1\n",
            "4     1\n",
            "5     0\n",
            "6     0\n",
            "7     0\n",
            "8     0\n",
            "9     0\n",
            "10    1\n",
            "11    0\n",
            "12    1\n",
            "13    0\n",
            "14    1\n",
            "15    0\n",
            "16    1\n",
            "17    0\n",
            "Name: labelnum, dtype: int64\n",
            "\n",
            " The total number of training data:  (13,)\n",
            "\n",
            " The total number of test data:  (5,)\n",
            "\n",
            " The words or Tokens in text documenta \n",
            "\n",
            "['about', 'am', 'amazing', 'an', 'awesome', 'bad', 'beers', 'can', 'dance', 'deal', 'do', 'enemy', 'feel', 'fun', 'good', 'great', 'have', 'holiday', 'house', 'is', 'juice', 'like', 'locality', 'love', 'my', 'not', 'of', 'place', 'sandwich', 'stay', 'stuff', 'taste', 'that', 'the', 'these', 'this', 'tired', 'to', 'today', 'tomorrow', 'very', 'view', 'we', 'went', 'what', 'will', 'with']\n",
            "\n",
            " Accuracy of the classifer is 0.6\n",
            "\n",
            " Confusion matrix\n",
            "[[3 1]\n",
            " [1 0]]\n",
            "\n",
            " The value of Precision 0.0\n",
            "\n",
            " The value of Recall 0.0\n"
          ]
        },
        {
          "output_type": "stream",
          "name": "stderr",
          "text": [
            "/usr/local/lib/python3.8/dist-packages/sklearn/utils/deprecation.py:87: FutureWarning: Function get_feature_names is deprecated; get_feature_names is deprecated in 1.0 and will be removed in 1.2. Please use get_feature_names_out instead.\n",
            "  warnings.warn(msg, category=FutureWarning)\n"
          ]
        }
      ],
      "source": [
        "import pandas as pd \n",
        "msg=pd.read_csv('dataset1.csv',names=['message','label']) \n",
        "print('The dimensions of the dataset',msg.shape)\n",
        "msg['labelnum']=msg.label.map({'pos':1,'neg':0})\n",
        "X=msg.message \n",
        "y=msg.labelnum\n",
        "print(X)\n",
        "print(y)\n",
        "\n",
        "# splitting\n",
        "from sklearn.model_selection import train_test_split \n",
        "xtrain,xtest,ytrain,ytest = train_test_split(X,y)\n",
        "\n",
        "print('\\n The total number of training data: ', ytrain.shape)\n",
        "print('\\n The total number of test data: ', ytest.shape)\n",
        "\n",
        "from sklearn.feature_extraction.text import CountVectorizer\n",
        "count_vect = CountVectorizer()\n",
        "xtrain_dtm = count_vect.fit_transform(xtrain)\n",
        "xtest_dtm=count_vect.transform(xtest)\n",
        "print('\\n The words or Tokens in text documenta \\n')\n",
        "print(count_vect.get_feature_names())\n",
        "\n",
        "df=pd.DataFrame(xtrain_dtm.toarray(), columns=count_vect.get_feature_names())\n",
        "\n",
        "# Training Naive Bayes (NB) classifier on training data.\t \n",
        "from sklearn.naive_bayes import MultinomialNB\n",
        "clf = MultinomialNB().fit(xtrain_dtm,ytrain) \n",
        "predicted = clf.predict(xtest_dtm)\n",
        "\n",
        "#printing accuracy, Confusion matrix, Precision and Recall\t \n",
        "from sklearn import metrics\n",
        "print('\\n Accuracy of the classifer is', \n",
        "metrics.accuracy_score(ytest,predicted))\n",
        "\n",
        "print('\\n Confusion matrix') \n",
        "print(metrics.confusion_matrix(ytest,predicted))\n",
        "\n",
        "print('\\n The value of Precision' , metrics.precision_score(ytest,predicted))\n",
        "\n",
        "\n",
        "print('\\n The value of Recall' , metrics.recall_score(ytest,predicted))\n",
        "\n",
        "\n",
        "\n"
      ]
    },
    {
      "cell_type": "code",
      "source": [],
      "metadata": {
        "id": "CVKI_kQKkCby"
      },
      "execution_count": null,
      "outputs": []
    }
  ]
}